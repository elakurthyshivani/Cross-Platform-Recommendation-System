{
 "cells": [
  {
   "cell_type": "code",
   "execution_count": 1,
   "id": "10a72f42",
   "metadata": {},
   "outputs": [
    {
     "name": "stdout",
     "output_type": "stream",
     "text": [
      "Requirement already satisfied: pymysql in c:\\users\\dba5153\\anaconda3\\lib\\site-packages (1.0.2)\n"
     ]
    }
   ],
   "source": [
    "import sys\n",
    "!{sys.executable} -m pip install pymysql"
   ]
  },
  {
   "cell_type": "code",
   "execution_count": 2,
   "id": "88a4d3da",
   "metadata": {},
   "outputs": [],
   "source": [
    "import pandas as pd\n",
    "import re, pymysql, nltk\n",
    "from nltk.corpus import stopwords\n",
    "from nltk.stem import WordNetLemmatizer"
   ]
  },
  {
   "cell_type": "code",
   "execution_count": 3,
   "id": "b5856c8f",
   "metadata": {},
   "outputs": [
    {
     "data": {
      "text/plain": [
       "True"
      ]
     },
     "execution_count": 3,
     "metadata": {},
     "output_type": "execute_result"
    }
   ],
   "source": [
    "conn=pymysql.connect(host='localhost',port=int(3306),user='root',passwd='',db='cprs')\n",
    "conn!=False"
   ]
  },
  {
   "cell_type": "code",
   "execution_count": 4,
   "id": "64a9afff",
   "metadata": {},
   "outputs": [],
   "source": [
    "data=pd.read_sql(f\"SELECT * FROM Shows\", conn)\n",
    "data.index=data.showID"
   ]
  },
  {
   "cell_type": "code",
   "execution_count": 5,
   "id": "2edda69a",
   "metadata": {},
   "outputs": [
    {
     "data": {
      "text/html": [
       "<div>\n",
       "<style scoped>\n",
       "    .dataframe tbody tr th:only-of-type {\n",
       "        vertical-align: middle;\n",
       "    }\n",
       "\n",
       "    .dataframe tbody tr th {\n",
       "        vertical-align: top;\n",
       "    }\n",
       "\n",
       "    .dataframe thead th {\n",
       "        text-align: right;\n",
       "    }\n",
       "</style>\n",
       "<table border=\"1\" class=\"dataframe\">\n",
       "  <thead>\n",
       "    <tr style=\"text-align: right;\">\n",
       "      <th></th>\n",
       "      <th>showID</th>\n",
       "      <th>title</th>\n",
       "      <th>genres</th>\n",
       "      <th>contentType</th>\n",
       "      <th>directors</th>\n",
       "      <th>actors</th>\n",
       "      <th>contentRating</th>\n",
       "      <th>releaseYear</th>\n",
       "      <th>summary</th>\n",
       "      <th>languageID</th>\n",
       "      <th>platformIDs</th>\n",
       "      <th>posterURL</th>\n",
       "      <th>average_rating_from_imdb</th>\n",
       "      <th>count_of_ratings_imdb</th>\n",
       "    </tr>\n",
       "    <tr>\n",
       "      <th>showID</th>\n",
       "      <th></th>\n",
       "      <th></th>\n",
       "      <th></th>\n",
       "      <th></th>\n",
       "      <th></th>\n",
       "      <th></th>\n",
       "      <th></th>\n",
       "      <th></th>\n",
       "      <th></th>\n",
       "      <th></th>\n",
       "      <th></th>\n",
       "      <th></th>\n",
       "      <th></th>\n",
       "      <th></th>\n",
       "    </tr>\n",
       "  </thead>\n",
       "  <tbody>\n",
       "    <tr>\n",
       "      <th>0</th>\n",
       "      <td>0</td>\n",
       "      <td>Lets Fight Ghost</td>\n",
       "      <td>Comedy, Drama, Fiction, Horror, Thriller</td>\n",
       "      <td>Series</td>\n",
       "      <td>Tomas Alfredson</td>\n",
       "      <td>Lina Leandersson, Kåre Hedebrant, Per Ragnar, ...</td>\n",
       "      <td>R</td>\n",
       "      <td>2008</td>\n",
       "      <td>A med student with a supernatural gift tries t...</td>\n",
       "      <td>70</td>\n",
       "      <td>1</td>\n",
       "      <td>https://image.tmdb.org/t/p/w1280/eHKxpDheZPV44...</td>\n",
       "      <td>8.4</td>\n",
       "      <td>5</td>\n",
       "    </tr>\n",
       "    <tr>\n",
       "      <th>1</th>\n",
       "      <td>1</td>\n",
       "      <td>HOW TO BUILD A GIRL</td>\n",
       "      <td>Comedy</td>\n",
       "      <td>Movie</td>\n",
       "      <td>Coky Giedroyc</td>\n",
       "      <td>Cleo, Paddy Considine, Beanie Feldstein, Dónal...</td>\n",
       "      <td>R</td>\n",
       "      <td>2020</td>\n",
       "      <td>When nerdy Johanna moves to London, things get...</td>\n",
       "      <td>71</td>\n",
       "      <td>1</td>\n",
       "      <td>https://image.tmdb.org/t/p/w1280/svEKCyQmJs3ZR...</td>\n",
       "      <td>0.0</td>\n",
       "      <td>0</td>\n",
       "    </tr>\n",
       "    <tr>\n",
       "      <th>2</th>\n",
       "      <td>2</td>\n",
       "      <td>The Con Heartist</td>\n",
       "      <td>Comedy</td>\n",
       "      <td>Movie</td>\n",
       "      <td>Mez Tharatorn</td>\n",
       "      <td>Kathaleeya McIntosh, Nadech Kugimiya, Pimchano...</td>\n",
       "      <td>Unrated</td>\n",
       "      <td>2020</td>\n",
       "      <td>After her ex boyfriend cons her out of a large...</td>\n",
       "      <td>70</td>\n",
       "      <td>1</td>\n",
       "      <td>https://image.tmdb.org/t/p/w1280/wFJujmOPJTMuH...</td>\n",
       "      <td>0.0</td>\n",
       "      <td>0</td>\n",
       "    </tr>\n",
       "    <tr>\n",
       "      <th>3</th>\n",
       "      <td>3</td>\n",
       "      <td>Gleboka woda</td>\n",
       "      <td>Drama</td>\n",
       "      <td>Series</td>\n",
       "      <td>Magdalena Lazarkiewicz, Kasia Adamik, Olga Cha...</td>\n",
       "      <td>Katarzyna Maciag, Piotr Nowak, Marcin Dorocins...</td>\n",
       "      <td>Unrated</td>\n",
       "      <td>2011</td>\n",
       "      <td>A group of social welfare workers led by their...</td>\n",
       "      <td>72</td>\n",
       "      <td>1</td>\n",
       "      <td>https://image.tmdb.org/t/p/w1280/c5QeX1Z2YXXXB...</td>\n",
       "      <td>0.0</td>\n",
       "      <td>0</td>\n",
       "    </tr>\n",
       "    <tr>\n",
       "      <th>4</th>\n",
       "      <td>4</td>\n",
       "      <td>Only a Mother</td>\n",
       "      <td>Drama</td>\n",
       "      <td>Movie</td>\n",
       "      <td>Alf Sjöberg</td>\n",
       "      <td>Hugo Björne, Eva Dahlbeck, Ulf Palme, Ragnar F...</td>\n",
       "      <td>Unrated</td>\n",
       "      <td>1949</td>\n",
       "      <td>An unhappily married farm worker struggling to...</td>\n",
       "      <td>73</td>\n",
       "      <td>1</td>\n",
       "      <td>https://image.tmdb.org/t/p/w1280/pVYm5Ck5eJcpQ...</td>\n",
       "      <td>6.0</td>\n",
       "      <td>1</td>\n",
       "    </tr>\n",
       "  </tbody>\n",
       "</table>\n",
       "</div>"
      ],
      "text/plain": [
       "        showID                title                                    genres  \\\n",
       "showID                                                                          \n",
       "0            0     Lets Fight Ghost  Comedy, Drama, Fiction, Horror, Thriller   \n",
       "1            1  HOW TO BUILD A GIRL                                    Comedy   \n",
       "2            2     The Con Heartist                                    Comedy   \n",
       "3            3         Gleboka woda                                     Drama   \n",
       "4            4        Only a Mother                                     Drama   \n",
       "\n",
       "       contentType                                          directors  \\\n",
       "showID                                                                  \n",
       "0           Series                                    Tomas Alfredson   \n",
       "1            Movie                                      Coky Giedroyc   \n",
       "2            Movie                                      Mez Tharatorn   \n",
       "3           Series  Magdalena Lazarkiewicz, Kasia Adamik, Olga Cha...   \n",
       "4            Movie                                        Alf Sjöberg   \n",
       "\n",
       "                                                   actors contentRating  \\\n",
       "showID                                                                    \n",
       "0       Lina Leandersson, Kåre Hedebrant, Per Ragnar, ...             R   \n",
       "1       Cleo, Paddy Considine, Beanie Feldstein, Dónal...             R   \n",
       "2       Kathaleeya McIntosh, Nadech Kugimiya, Pimchano...       Unrated   \n",
       "3       Katarzyna Maciag, Piotr Nowak, Marcin Dorocins...       Unrated   \n",
       "4       Hugo Björne, Eva Dahlbeck, Ulf Palme, Ragnar F...       Unrated   \n",
       "\n",
       "       releaseYear                                            summary  \\\n",
       "showID                                                                  \n",
       "0             2008  A med student with a supernatural gift tries t...   \n",
       "1             2020  When nerdy Johanna moves to London, things get...   \n",
       "2             2020  After her ex boyfriend cons her out of a large...   \n",
       "3             2011  A group of social welfare workers led by their...   \n",
       "4             1949  An unhappily married farm worker struggling to...   \n",
       "\n",
       "        languageID platformIDs  \\\n",
       "showID                           \n",
       "0               70           1   \n",
       "1               71           1   \n",
       "2               70           1   \n",
       "3               72           1   \n",
       "4               73           1   \n",
       "\n",
       "                                                posterURL  \\\n",
       "showID                                                      \n",
       "0       https://image.tmdb.org/t/p/w1280/eHKxpDheZPV44...   \n",
       "1       https://image.tmdb.org/t/p/w1280/svEKCyQmJs3ZR...   \n",
       "2       https://image.tmdb.org/t/p/w1280/wFJujmOPJTMuH...   \n",
       "3       https://image.tmdb.org/t/p/w1280/c5QeX1Z2YXXXB...   \n",
       "4       https://image.tmdb.org/t/p/w1280/pVYm5Ck5eJcpQ...   \n",
       "\n",
       "        average_rating_from_imdb  count_of_ratings_imdb  \n",
       "showID                                                   \n",
       "0                            8.4                      5  \n",
       "1                            0.0                      0  \n",
       "2                            0.0                      0  \n",
       "3                            0.0                      0  \n",
       "4                            6.0                      1  "
      ]
     },
     "execution_count": 5,
     "metadata": {},
     "output_type": "execute_result"
    }
   ],
   "source": [
    "data[:5]"
   ]
  },
  {
   "cell_type": "code",
   "execution_count": 6,
   "id": "f6d2eb4a",
   "metadata": {},
   "outputs": [
    {
     "name": "stderr",
     "output_type": "stream",
     "text": [
      "[nltk_data] Downloading package stopwords to\n",
      "[nltk_data]     C:\\Users\\dba5153\\AppData\\Roaming\\nltk_data...\n",
      "[nltk_data]   Package stopwords is already up-to-date!\n",
      "[nltk_data] Downloading package wordnet to\n",
      "[nltk_data]     C:\\Users\\dba5153\\AppData\\Roaming\\nltk_data...\n",
      "[nltk_data]   Package wordnet is already up-to-date!\n"
     ]
    }
   ],
   "source": [
    "nltk.download('stopwords')\n",
    "nltk.download('wordnet')\n",
    "stop_words_list=stopwords.words('english')\n",
    "wnl=WordNetLemmatizer()"
   ]
  },
  {
   "cell_type": "code",
   "execution_count": 7,
   "id": "ebee8204",
   "metadata": {},
   "outputs": [],
   "source": [
    "def clean_summary(x):\n",
    "    x=re.sub(\"\\s+\", \" \", re.sub(\"[^\\w ]\", \" \", x)).lower()\n",
    "    x=[word for word in x.split() if not word in stop_words_list]\n",
    "    x=[wnl.lemmatize(word, pos=\"v\") for word in x]\n",
    "    return ' '.join(x)"
   ]
  },
  {
   "cell_type": "code",
   "execution_count": 8,
   "id": "396ec883",
   "metadata": {},
   "outputs": [
    {
     "name": "stdout",
     "output_type": "stream",
     "text": [
      "Wall time: 3.67 s\n"
     ]
    },
    {
     "data": {
      "text/plain": [
       "showID\n",
       "0        med student supernatural gift try cash abiliti...\n",
       "1        nerdy johanna move london things get hand rein...\n",
       "2        ex boyfriend con large sum money former bank e...\n",
       "3        group social welfare workers lead new director...\n",
       "4        unhappily marry farm worker struggle care chil...\n",
       "                               ...                        \n",
       "23526        physicist try help alien cat crash land earth\n",
       "23527    super sleuth mouse must solve toy maker disapp...\n",
       "23528       merlin train young orphan destine king england\n",
       "23529    strong will family struggle establish wild gee...\n",
       "23532    rock imagination movers disney junior favorite...\n",
       "Name: clean_summary, Length: 16155, dtype: object"
      ]
     },
     "execution_count": 8,
     "metadata": {},
     "output_type": "execute_result"
    }
   ],
   "source": [
    "%%time\n",
    "data['clean_summary']=data.summary.apply(clean_summary)\n",
    "data.clean_summary"
   ]
  },
  {
   "cell_type": "code",
   "execution_count": 9,
   "id": "bce14a80",
   "metadata": {},
   "outputs": [],
   "source": [
    "def clean_names(x):\n",
    "    x=re.split(\",\\s*\", x)[:4]\n",
    "    x=[re.sub(\"\\s+\", \"\", word.lower()) for word in x]\n",
    "    return \", \".join(x)"
   ]
  },
  {
   "cell_type": "code",
   "execution_count": 10,
   "id": "73db1e56",
   "metadata": {},
   "outputs": [],
   "source": [
    "data[\"clean_genres\"]=data.genres.apply(clean_names)\n",
    "data[\"clean_actors\"]=data.actors.apply(clean_names)\n",
    "data[\"clean_directors\"]=data.directors.apply(clean_names)"
   ]
  },
  {
   "cell_type": "code",
   "execution_count": 11,
   "id": "e56962d0",
   "metadata": {},
   "outputs": [],
   "source": [
    "# TF-IDF : Term Frequency and Inverse Document Frequency\n",
    "from sklearn.feature_extraction.text import TfidfVectorizer\n",
    "tfidf=TfidfVectorizer()"
   ]
  },
  {
   "cell_type": "code",
   "execution_count": 12,
   "id": "6a076ca4",
   "metadata": {},
   "outputs": [],
   "source": [
    "def makeTfidfDF(data, column=\"clean_summary\"):\n",
    "    tfidf_data=tfidf.fit_transform(data[column])\n",
    "    return pd.DataFrame(tfidf_data.todense(), columns=tfidf.get_feature_names(), \\\n",
    "                      index=data.index)"
   ]
  },
  {
   "cell_type": "code",
   "execution_count": 13,
   "id": "7f2deac4",
   "metadata": {},
   "outputs": [],
   "source": [
    "from sklearn.preprocessing import MultiLabelBinarizer\n",
    "mlb = MultiLabelBinarizer()"
   ]
  },
  {
   "cell_type": "code",
   "execution_count": 14,
   "id": "d392c8cb",
   "metadata": {},
   "outputs": [],
   "source": [
    "from sklearn.metrics.pairwise import cosine_similarity"
   ]
  },
  {
   "cell_type": "code",
   "execution_count": 15,
   "id": "4f83c4db",
   "metadata": {},
   "outputs": [],
   "source": [
    "def generateMatrices(data):\n",
    "    binary=makeTfidfDF(data)\n",
    "    return pd.DataFrame(cosine_similarity(binary), index=binary.index, columns=binary.index)"
   ]
  },
  {
   "cell_type": "code",
   "execution_count": 16,
   "id": "872068aa",
   "metadata": {},
   "outputs": [
    {
     "name": "stdout",
     "output_type": "stream",
     "text": [
      "Wall time: 2min 27s\n"
     ]
    },
    {
     "data": {
      "text/plain": [
       "(16155, 16155)"
      ]
     },
     "execution_count": 16,
     "metadata": {},
     "output_type": "execute_result"
    }
   ],
   "source": [
    "%%time\n",
    "cosine_similarities=generateMatrices(data)\n",
    "cosine_similarities.shape"
   ]
  },
  {
   "cell_type": "code",
   "execution_count": 17,
   "id": "1af03e09",
   "metadata": {},
   "outputs": [],
   "source": [
    "def makeBinaryDFs(data, columnName):\n",
    "    return pd.DataFrame(mlb.fit_transform(data[columnName].apply(lambda x: re.split(\",\\s*\", x))),\n",
    "            columns=mlb.classes_, index=data.index)"
   ]
  },
  {
   "cell_type": "code",
   "execution_count": 18,
   "id": "824b14fb",
   "metadata": {},
   "outputs": [],
   "source": [
    "def generateMatrices2(data): \n",
    "    binary=pd.concat([makeBinaryDFs(data, 'genres'), makeBinaryDFs(data, 'directors'), \\\n",
    "              makeBinaryDFs(data, 'actors')], axis=1)\n",
    "    return pd.DataFrame(cosine_similarity(binary), index=binary.index, columns=binary.index)"
   ]
  },
  {
   "cell_type": "code",
   "execution_count": 19,
   "id": "0243d980",
   "metadata": {},
   "outputs": [
    {
     "name": "stdout",
     "output_type": "stream",
     "text": [
      "Wall time: 5min 33s\n"
     ]
    },
    {
     "data": {
      "text/plain": [
       "(16155, 16155)"
      ]
     },
     "execution_count": 19,
     "metadata": {},
     "output_type": "execute_result"
    }
   ],
   "source": [
    "%%time\n",
    "cosine_similarities2=generateMatrices2(data)\n",
    "cosine_similarities2.shape"
   ]
  },
  {
   "cell_type": "code",
   "execution_count": 20,
   "id": "b6773ad3",
   "metadata": {},
   "outputs": [],
   "source": [
    "def getRecommendations(data, title, index, n):\n",
    "    results=cosine_similarities[index].sort_values(ascending=False)[:n//2+1]\n",
    "    results2=cosine_similarities2[index]\n",
    "    results2=results2[~results2.index.isin(results)].sort_values(ascending=False)[:n//2+1]\n",
    "    similar=pd.concat([data[data.index.isin(results.index)], data[data.index.isin(results2.index)]])\n",
    "    return similar[similar.title!=title][:n]"
   ]
  },
  {
   "cell_type": "code",
   "execution_count": 21,
   "id": "173b9c81",
   "metadata": {},
   "outputs": [],
   "source": [
    "def recommender(showID, n=20):\n",
    "    results=getRecommendations(data, data.loc[showID, \"title\"], showID, n)\n",
    "    return showID, results.showID"
   ]
  },
  {
   "cell_type": "code",
   "execution_count": 22,
   "id": "f6fa1811",
   "metadata": {},
   "outputs": [],
   "source": [
    "similarContent=pd.DataFrame({\"contentID\":[], \"similarContentID\":[]})\n",
    "similarContent.contentID=similarContent.contentID.astype(int)\n",
    "similarContent.similarContentID=similarContent.similarContentID.astype(int)"
   ]
  },
  {
   "cell_type": "code",
   "execution_count": 23,
   "id": "96208bfc",
   "metadata": {},
   "outputs": [],
   "source": [
    "from concurrent.futures import ThreadPoolExecutor, as_completed"
   ]
  },
  {
   "cell_type": "code",
   "execution_count": 24,
   "id": "3acb6481",
   "metadata": {},
   "outputs": [],
   "source": [
    "TIMEOUT_SECS=60"
   ]
  },
  {
   "cell_type": "code",
   "execution_count": 25,
   "id": "bf1a1d61",
   "metadata": {},
   "outputs": [
    {
     "name": "stdout",
     "output_type": "stream",
     "text": [
      "Wall time: 4min 3s\n"
     ]
    }
   ],
   "source": [
    "%%time\n",
    "future_to_url, no_data_for={}, []\n",
    "with ThreadPoolExecutor(max_workers=20) as executor:\n",
    "    for showID in data.showID:\n",
    "        future_to_url[executor.submit(recommender, showID)]=showID\n",
    "\n",
    "    for future in as_completed(future_to_url):\n",
    "        try:\n",
    "            result=future.result(timeout=TIMEOUT_SECS)\n",
    "            showID, showIDs=result[0], result[1]\n",
    "            similarContent=pd.concat([similarContent, pd.DataFrame({\"contentID\":[showID]*20, \"similarContentID\":list(showIDs)})])\n",
    "        except:\n",
    "            pass"
   ]
  },
  {
   "cell_type": "code",
   "execution_count": 26,
   "id": "c6663c74",
   "metadata": {},
   "outputs": [
    {
     "data": {
      "text/plain": [
       "(316760, 2)"
      ]
     },
     "execution_count": 26,
     "metadata": {},
     "output_type": "execute_result"
    }
   ],
   "source": [
    "similarContent.shape"
   ]
  },
  {
   "cell_type": "code",
   "execution_count": 28,
   "id": "4e138c92",
   "metadata": {},
   "outputs": [],
   "source": [
    "similarContent.reset_index(inplace=True)"
   ]
  },
  {
   "cell_type": "code",
   "execution_count": 31,
   "id": "03695374",
   "metadata": {},
   "outputs": [
    {
     "data": {
      "text/html": [
       "<div>\n",
       "<style scoped>\n",
       "    .dataframe tbody tr th:only-of-type {\n",
       "        vertical-align: middle;\n",
       "    }\n",
       "\n",
       "    .dataframe tbody tr th {\n",
       "        vertical-align: top;\n",
       "    }\n",
       "\n",
       "    .dataframe thead th {\n",
       "        text-align: right;\n",
       "    }\n",
       "</style>\n",
       "<table border=\"1\" class=\"dataframe\">\n",
       "  <thead>\n",
       "    <tr style=\"text-align: right;\">\n",
       "      <th></th>\n",
       "      <th>contentID</th>\n",
       "      <th>similarContentID</th>\n",
       "    </tr>\n",
       "  </thead>\n",
       "  <tbody>\n",
       "    <tr>\n",
       "      <th>0</th>\n",
       "      <td>3</td>\n",
       "      <td>401</td>\n",
       "    </tr>\n",
       "    <tr>\n",
       "      <th>1</th>\n",
       "      <td>3</td>\n",
       "      <td>940</td>\n",
       "    </tr>\n",
       "    <tr>\n",
       "      <th>2</th>\n",
       "      <td>3</td>\n",
       "      <td>1776</td>\n",
       "    </tr>\n",
       "    <tr>\n",
       "      <th>3</th>\n",
       "      <td>3</td>\n",
       "      <td>4309</td>\n",
       "    </tr>\n",
       "    <tr>\n",
       "      <th>4</th>\n",
       "      <td>3</td>\n",
       "      <td>8950</td>\n",
       "    </tr>\n",
       "  </tbody>\n",
       "</table>\n",
       "</div>"
      ],
      "text/plain": [
       "   contentID  similarContentID\n",
       "0          3               401\n",
       "1          3               940\n",
       "2          3              1776\n",
       "3          3              4309\n",
       "4          3              8950"
      ]
     },
     "execution_count": 31,
     "metadata": {},
     "output_type": "execute_result"
    }
   ],
   "source": [
    "similarContent.drop([\"level_0\", \"index\"], axis=1, inplace=True)\n",
    "similarContent[:5]"
   ]
  },
  {
   "cell_type": "code",
   "execution_count": 33,
   "id": "f819c97d",
   "metadata": {},
   "outputs": [
    {
     "data": {
      "text/plain": [
       "(313448, 2)"
      ]
     },
     "execution_count": 33,
     "metadata": {},
     "output_type": "execute_result"
    }
   ],
   "source": [
    "similarContent.drop_duplicates(keep=\"first\", inplace=True)\n",
    "similarContent.shape"
   ]
  },
  {
   "cell_type": "code",
   "execution_count": 34,
   "id": "3c7766a3",
   "metadata": {},
   "outputs": [
    {
     "name": "stdout",
     "output_type": "stream",
     "text": [
      "Wall time: 1min 5s\n"
     ]
    }
   ],
   "source": [
    "%%time\n",
    "try:\n",
    "    with conn.cursor() as cur:\n",
    "        for i in similarContent.index:\n",
    "            showID=similarContent.loc[i, \"contentID\"]\n",
    "            similarID=similarContent.loc[i, \"similarContentID\"]\n",
    "#             print(showID, similarID)\n",
    "            cur.execute(f\"INSERT INTO SimilarContent VALUES ({showID}, {similarID});\")\n",
    "        conn.commit()\n",
    "except Exception as error:\n",
    "    print(error)"
   ]
  },
  {
   "cell_type": "code",
   "execution_count": 35,
   "id": "9c56e43e",
   "metadata": {},
   "outputs": [],
   "source": [
    "conn.close()"
   ]
  },
  {
   "cell_type": "code",
   "execution_count": null,
   "id": "6431aa13",
   "metadata": {},
   "outputs": [],
   "source": []
  }
 ],
 "metadata": {
  "kernelspec": {
   "display_name": "Python 3 (ipykernel)",
   "language": "python",
   "name": "python3"
  },
  "language_info": {
   "codemirror_mode": {
    "name": "ipython",
    "version": 3
   },
   "file_extension": ".py",
   "mimetype": "text/x-python",
   "name": "python",
   "nbconvert_exporter": "python",
   "pygments_lexer": "ipython3",
   "version": "3.9.7"
  }
 },
 "nbformat": 4,
 "nbformat_minor": 5
}
